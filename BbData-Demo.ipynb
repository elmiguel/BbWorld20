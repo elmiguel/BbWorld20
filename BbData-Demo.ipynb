{
 "cells": [
  {
   "cell_type": "code",
   "execution_count": 2,
   "metadata": {},
   "outputs": [
    {
     "output_type": "execute_result",
     "data": {
      "text/plain": "'Blackboard Data API\\nUsage:\\n    bbdata.py [options]\\n    bbdata.py (-h | --help)\\n    bbdata.py --version\\n\\nCommands:\\n    -s <store>, --store <store>  Set the persistence layer. [default: mongo]\\n\\nOptions:\\nGeneral Options:\\n    -h, --help      Show this screen.\\n    -v, --version   Show version.\\n    -D, --debug     Enable debug mode: verbose.\\n    --pprint        Pretty print the results.\\n'"
     },
     "metadata": {},
     "execution_count": 2
    }
   ],
   "source": [
    "#!/usr/local/bin/python3\n",
    "\"\"\"Blackboard Data API\n",
    "Usage:\n",
    "    bbdata.py [options]\n",
    "    bbdata.py (-h | --help)\n",
    "    bbdata.py --version\n",
    "\n",
    "Commands:\n",
    "    -s <store>, --store <store>  Set the persistence layer. [default: mongo]\n",
    "\n",
    "Options:\n",
    "General Options:\n",
    "    -h, --help      Show this screen.\n",
    "    -v, --version   Show version.\n",
    "    -D, --debug     Enable debug mode: verbose.\n",
    "    --pprint        Pretty print the results.\n",
    "\"\"\""
   ]
  },
  {
   "cell_type": "code",
   "execution_count": 3,
   "metadata": {},
   "outputs": [],
   "source": [
    "import json\n",
    "import sys\n",
    "import re\n",
    "\n",
    "from docopt import docopt\n",
    "from sqlalchemy import create_engine, inspect\n",
    "from sqlalchemy.orm import sessionmaker\n",
    "from pymongo import MongoClient, ReturnDocument, ASCENDING\n",
    "from pprint import pprint\n",
    "from settings import config as config, DEFAULT_MODE"
   ]
  },
  {
   "cell_type": "code",
   "execution_count": 4,
   "metadata": {},
   "outputs": [],
   "source": [
    "def to_dict(result):\n",
    "    return [dict(zip(row.keys(), row)) for row in result]\n"
   ]
  },
  {
   "cell_type": "code",
   "execution_count": 5,
   "metadata": {},
   "outputs": [],
   "source": [
    "def load_query(query_name):\n",
    "    query = None\n",
    "    variables = None\n",
    "\n",
    "    with open(f\"./queries/{query_name}/query.sql\") as qf:\n",
    "        query = qf.read()\n",
    "\n",
    "    with open(f\"./queries/{query_name}/variables.json\") as vf:\n",
    "        variables = json.load(vf)['variables']\n",
    "\n",
    "    for k, v in variables.items():\n",
    "        query = query.replace('{' + k + '}', build_type(v))\n",
    "\n",
    "    return to_dict(sessions['bbdata'].execute(query))\n"
   ]
  },
  {
   "cell_type": "code",
   "execution_count": 8,
   "metadata": {},
   "outputs": [],
   "source": [
    "def build_type(value):\n",
    "    if type(value) == dict:\n",
    "        return json.dumps(value)\n",
    "    if type(value) == list:\n",
    "        return ','.join([build_type(i) for i in value])\n",
    "    if type(value) == int:\n",
    "        return value\n",
    "    if type(value) == str:\n",
    "        return f\"'{value}'\"\n"
   ]
  },
  {
   "cell_type": "code",
   "execution_count": 7,
   "metadata": {},
   "outputs": [],
   "source": [
    "def main():\n",
    "    load_user = load_query('get-user')\n",
    "\n",
    "    print(load_user)\n",
    "\n",
    "    for db, session in sessions.items():\n",
    "        session.close()\n",
    "        engines[db].dispose()\n",
    "\n",
    "    print('Job Complete!!')"
   ]
  },
  {
   "cell_type": "code",
   "execution_count": 10,
   "metadata": {},
   "outputs": [
    {
     "output_type": "error",
     "ename": "DocoptExit",
     "evalue": "Usage:\n    bbdata.py [options]\n    bbdata.py (-h | --help)\n    bbdata.py --version",
     "traceback": [
      "An exception has occurred, use %tb to see the full traceback.\n",
      "\u001b[0;31mDocoptExit\u001b[0m\u001b[0;31m:\u001b[0m Usage:\n    bbdata.py [options]\n    bbdata.py (-h | --help)\n    bbdata.py --version\n"
     ]
    }
   ],
   "source": [
    "if __name__ == '__main__':\n",
    "\n",
    "    args = docopt(__doc__, version='Blackboard Data API 0.0.1')\n",
    "\n",
    "    store = args['--store']\n",
    "    debug = args['--debug']\n",
    "\n",
    "    client = None\n",
    "\n",
    "    if store == 'mongo':\n",
    "        # connect to mongo\n",
    "        client = MongoClient(config['mongo'][DEFAULT_MODE]['url'])\n",
    "        mongo_db = client[config['mongo'][DEFAULT_MODE]['database']]\n",
    "\n",
    "    conn_str = f\"snowflake://{config['bbdata']['user']}:{config['bbdata']['pass']}@{config['bbdata']['account']}/{config['bbdata']['database']}/{config['bbdata']['schema']}\"\n",
    "    engines = {\n",
    "        'bbdata': create_engine(conn_str, echo=debug)\n",
    "    }\n",
    "\n",
    "    sessions = {\n",
    "        'bbdata': sessionmaker(bind=engines['bbdata'])(),\n",
    "    }\n",
    "\n",
    "    output_file = './exports/GetUser.csv'\n",
    "    log_file = './exports/ErrorLog.csv'\n",
    "    main()\n"
   ]
  },
  {
   "cell_type": "code",
   "execution_count": null,
   "metadata": {},
   "outputs": [],
   "source": []
  }
 ],
 "metadata": {
  "language_info": {
   "codemirror_mode": {
    "name": "ipython",
    "version": 3
   },
   "file_extension": ".py",
   "mimetype": "text/x-python",
   "name": "python",
   "nbconvert_exporter": "python",
   "pygments_lexer": "ipython3",
   "version": 3
  },
  "orig_nbformat": 2,
  "kernelspec": {
   "name": "python_defaultSpec_1593626080320",
   "display_name": "Python 3.7.4 64-bit"
  }
 },
 "nbformat": 4,
 "nbformat_minor": 2
}